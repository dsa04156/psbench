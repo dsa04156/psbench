{
 "cells": [
  {
   "cell_type": "code",
   "execution_count": null,
   "id": "4a886215",
   "metadata": {
    "vscode": {
     "languageId": "plaintext"
    }
   },
   "outputs": [],
   "source": [
    "{\n",
    " \"cells\": [\n",
    "  {\n",
    "   \"cell_type\": \"code\",\n",
    "   \"source\": [\n",
    "    \"import pandas as pd, numpy as np, matplotlib.pyplot as plt\\n\",\n",
    "    \"df = pd.read_csv('results/summary.csv')\\n\",\n",
    "    \"def knee_xy(xs, ys):\\n\",\n",
    "    \"    # 단순 두구간 선형 적합 기반 knee 탐지\\n\",\n",
    "    \"    xs = np.array(xs); ys = np.array(ys)\\n\",\n",
    "    \"    best_i, best_err = 1, 1e18\\n\",\n",
    "    \"    for i in range(1, len(xs)-1):\\n\",\n",
    "    \"        A = np.vstack([xs[:i], np.ones(i)]).T\\n\",\n",
    "    \"        m1,c1 = np.linalg.lstsq(A, ys[:i], rcond=None)[0]\\n\",\n",
    "    \"        A2 = np.vstack([xs[i:], np.ones(len(xs)-i)]).T\\n\",\n",
    "    \"        m2,c2 = np.linalg.lstsq(A2, ys[i:], rcond=None)[0]\\n\",\n",
    "    \"        e = ((ys[:i]-(m1*xs[:i]+c1))**2).sum()+((ys[i:]-(m2*xs[i:]+c2))**2).sum()\\n\",\n",
    "    \"        if e < best_err: best_err, best_i = e, i\\n\",\n",
    "    \"    return xs[best_i], ys[best_i]\\n\",\n",
    "    \"for m in sorted(df.M.unique()):\\n\",\n",
    "    \"  for p in sorted(df.payload.unique()):\\n\",\n",
    "    \"    d = df[(df.M==m)&(df.payload==p)]\\n\",\n",
    "    \"    plt.figure();\\n\",\n",
    "    \"    for case in ['A','B','C']:\\n\",\n",
    "    \"      dd = d[d['case']==case].sort_values('F')\\n\",\n",
    "    \"      plt.plot(dd['F'], dd['qps'], marker='o', label=f'{case}-QPS')\\n\",\n",
    "    \"      if len(dd)>=3:\\n\",\n",
    "    \"        kx, ky = knee_xy(dd['F'].values, dd['qps'].values)\\n\",\n",
    "    \"        plt.annotate(f'knee≈{int(kx)}', xy=(kx,ky), xytext=(kx,ky*1.05), arrowprops=dict(arrowstyle='->'))\\n\",\n",
    "    \"    plt.xscale('log', basex=2); plt.xlabel('F'); plt.ylabel('QPS'); plt.title(f'QPS vs F (M={m}, payload={p}B)'); plt.legend();\\n\",\n",
    "    \"    plt.show()\\n\"\n",
    "   ],\n",
    "   \"metadata\": {},\n",
    "   \"outputs\": []\n",
    "  }\n",
    " ],\n",
    " \"metadata\": {\n",
    "  \"kernelspec\": { \"display_name\": \"Python 3\", \"language\": \"python\", \"name\": \"python3\" },\n",
    "  \"language_info\": { \"name\": \"python\" }\n",
    " },\n",
    " \"nbformat\": 4,\n",
    " \"nbformat_minor\": 5\n",
    "}\n"
   ]
  }
 ],
 "metadata": {
  "language_info": {
   "name": "python"
  }
 },
 "nbformat": 4,
 "nbformat_minor": 5
}
